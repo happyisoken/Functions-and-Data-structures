{
 "cells": [
  {
   "cell_type": "code",
   "execution_count": 16,
   "id": "515b72f8-09c1-49de-9afb-4e6d68c91cea",
   "metadata": {},
   "outputs": [
    {
     "name": "stdout",
     "output_type": "stream",
     "text": [
      "19 1 200 8.0\n"
     ]
    },
    {
     "data": {
      "text/plain": [
       "(19, 1, 200, 8.0)"
      ]
     },
     "execution_count": 16,
     "metadata": {},
     "output_type": "execute_result"
    }
   ],
   "source": [
    "def arithmetic(a, b, c):\n",
    "    sum = a+b+c\n",
    "    sub = a-b-c\n",
    "    mul = a*b*c\n",
    "    div = a*b/c\n",
    "    print(sum, sub, mul, div)\n",
    "    return sum, sub, mul, div\n",
    "arithmetic(10, 4, 5)"
   ]
  },
  {
   "cell_type": "code",
   "execution_count": 1,
   "id": "276a3ace-da77-4ea1-8664-35bbfd5f6813",
   "metadata": {},
   "outputs": [
    {
     "name": "stdout",
     "output_type": "stream",
     "text": [
      "12\n"
     ]
    }
   ],
   "source": [
    "def adder(x,y):\n",
    "    print(x+y)\n",
    "    \n",
    "adder(\"1\",\"2\")"
   ]
  },
  {
   "cell_type": "code",
   "execution_count": 2,
   "id": "a49cea1f-eff9-4d0c-bfde-6a5b333ac068",
   "metadata": {},
   "outputs": [
    {
     "name": "stdout",
     "output_type": "stream",
     "text": [
      "w\n"
     ]
    }
   ],
   "source": [
    "big = max('Hello world')\n",
    "print(big)"
   ]
  },
  {
   "cell_type": "code",
   "execution_count": 3,
   "id": "e2011d1f-3130-4fbd-a02c-9a65c7c49e0c",
   "metadata": {},
   "outputs": [
    {
     "name": "stdout",
     "output_type": "stream",
     "text": [
      "Hello\n",
      "Fun\n",
      "Zip\n",
      "Hello\n",
      "Fun\n"
     ]
    }
   ],
   "source": [
    "def thing():\n",
    "    print('Hello')\n",
    "    print('Fun')\n",
    "    \n",
    "thing()\n",
    "print('Zip')\n",
    "thing()    "
   ]
  },
  {
   "cell_type": "code",
   "execution_count": 7,
   "id": "cb5f30d9-dc6d-429b-b565-1b83c0426efb",
   "metadata": {},
   "outputs": [
    {
     "name": "stdout",
     "output_type": "stream",
     "text": [
      "0.99\n",
      "<class 'int'>\n",
      "<class 'float'>\n",
      "-2.5\n"
     ]
    }
   ],
   "source": [
    "print(float(99)/100)\n",
    "i = 42\n",
    "print(type(i))\n",
    "type(i)\n",
    "f = float(i)\n",
    "print(type(f))\n",
    "type(f)\n",
    "print(1+2*float(3)/4-5)"
   ]
  },
  {
   "cell_type": "code",
   "execution_count": 12,
   "id": "6ef5cefc-a007-48d5-a355-4d3c72753a80",
   "metadata": {},
   "outputs": [
    {
     "ename": "TypeError",
     "evalue": "can only concatenate str (not \"int\") to str",
     "output_type": "error",
     "traceback": [
      "\u001b[1;31m---------------------------------------------------------------------------\u001b[0m",
      "\u001b[1;31mTypeError\u001b[0m                                 Traceback (most recent call last)",
      "\u001b[1;32m~\\AppData\\Local\\Temp/ipykernel_52076/2652074838.py\u001b[0m in \u001b[0;36m<module>\u001b[1;34m\u001b[0m\n\u001b[0;32m      1\u001b[0m \u001b[0msval\u001b[0m \u001b[1;33m=\u001b[0m \u001b[1;34m'123'\u001b[0m\u001b[1;33m\u001b[0m\u001b[1;33m\u001b[0m\u001b[0m\n\u001b[0;32m      2\u001b[0m \u001b[0mtype\u001b[0m\u001b[1;33m(\u001b[0m\u001b[0msval\u001b[0m\u001b[1;33m)\u001b[0m\u001b[1;33m\u001b[0m\u001b[1;33m\u001b[0m\u001b[0m\n\u001b[1;32m----> 3\u001b[1;33m \u001b[0mprint\u001b[0m\u001b[1;33m(\u001b[0m\u001b[0msval\u001b[0m \u001b[1;33m+\u001b[0m \u001b[1;36m1\u001b[0m\u001b[1;33m)\u001b[0m\u001b[1;33m\u001b[0m\u001b[1;33m\u001b[0m\u001b[0m\n\u001b[0m\u001b[0;32m      4\u001b[0m \u001b[0mival\u001b[0m \u001b[1;33m=\u001b[0m \u001b[0mint\u001b[0m\u001b[1;33m(\u001b[0m\u001b[0msval\u001b[0m\u001b[1;33m)\u001b[0m\u001b[1;33m\u001b[0m\u001b[1;33m\u001b[0m\u001b[0m\n\u001b[0;32m      5\u001b[0m \u001b[0mtype\u001b[0m\u001b[1;33m(\u001b[0m\u001b[0mival\u001b[0m\u001b[1;33m)\u001b[0m\u001b[1;33m\u001b[0m\u001b[1;33m\u001b[0m\u001b[0m\n",
      "\u001b[1;31mTypeError\u001b[0m: can only concatenate str (not \"int\") to str"
     ]
    }
   ],
   "source": [
    "sval = '123'\n",
    "type(sval)\n",
    "print(sval + 1)\n",
    "ival = int(sval)\n",
    "type(ival)\n",
    "print(ival + 1)\n",
    "\n",
    "nsv = 'hello bob'\n",
    "niv = int(nsv)"
   ]
  },
  {
   "cell_type": "code",
   "execution_count": 17,
   "id": "55983350-b026-4462-936e-132c2bc60331",
   "metadata": {},
   "outputs": [
    {
     "name": "stdout",
     "output_type": "stream",
     "text": [
      "Hello\n",
      "Yo\n",
      "I'm a lumberjack, and i'm okay.\n",
      "I sleep all night and i work all day.\n",
      "7\n"
     ]
    }
   ],
   "source": [
    "x = 5\n",
    "print('Hello')\n",
    "\n",
    "def print_lyrics():\n",
    "    print(\"I'm a lumberjack, and i'm okay.\")\n",
    "    print(\"I sleep all night and i work all day.\")\n",
    "\n",
    "print(\"Yo\")\n",
    "print_lyrics()\n",
    "x = x + 2\n",
    "print(x)"
   ]
  },
  {
   "cell_type": "code",
   "execution_count": 16,
   "id": "74a78f41-e7e9-4beb-9c9c-a362375f1464",
   "metadata": {},
   "outputs": [
    {
     "name": "stdout",
     "output_type": "stream",
     "text": [
      "I'm a lumberjack, and i'm okay.\n",
      "I sleep all night and i work all day.\n"
     ]
    }
   ],
   "source": [
    "print_lyrics()"
   ]
  },
  {
   "cell_type": "code",
   "execution_count": 19,
   "id": "4b2d8084-f830-4ac5-b900-141c32b6334b",
   "metadata": {},
   "outputs": [
    {
     "name": "stdout",
     "output_type": "stream",
     "text": [
      "Hello\n",
      "Hola\n",
      "Bonjour\n"
     ]
    }
   ],
   "source": [
    "def greet(lang):\n",
    "    if lang ==\"es\":\n",
    "        print(\"Hola\")\n",
    "    elif lang == \"fr\":\n",
    "        print(\"Bonjour\")\n",
    "    else:\n",
    "        print(\"Hello\")\n",
    "greet(\"en\")\n",
    "greet(\"es\") \n",
    "greet(\"fr\")"
   ]
  },
  {
   "cell_type": "code",
   "execution_count": 20,
   "id": "1d41c3a5-37b3-480c-ae0b-93b7d5545462",
   "metadata": {},
   "outputs": [
    {
     "name": "stdout",
     "output_type": "stream",
     "text": [
      "Hello Glenn\n",
      "Hola Sally\n",
      "Bonjour Michael\n"
     ]
    }
   ],
   "source": [
    "def greet(lang):\n",
    "    if lang ==\"es\":\n",
    "        return \"Hola\"\n",
    "    elif lang == \"fr\":\n",
    "        return \"Bonjour\"\n",
    "    else:\n",
    "        return \"Hello\"\n",
    "print(greet(\"en\"), \"Glenn\")\n",
    "print(greet(\"es\"), \"Sally\")\n",
    "print(greet(\"fr\"), \"Michael\")"
   ]
  },
  {
   "cell_type": "code",
   "execution_count": 21,
   "id": "5e20205f-ecdf-4419-bbb2-c8d799bc77f6",
   "metadata": {},
   "outputs": [
    {
     "ename": "NameError",
     "evalue": "name 'result' is not defined",
     "output_type": "error",
     "traceback": [
      "\u001b[1;31m---------------------------------------------------------------------------\u001b[0m",
      "\u001b[1;31mNameError\u001b[0m                                 Traceback (most recent call last)",
      "\u001b[1;32m~\\AppData\\Local\\Temp/ipykernel_52076/2896471784.py\u001b[0m in \u001b[0;36m<module>\u001b[1;34m\u001b[0m\n\u001b[0;32m      3\u001b[0m \u001b[1;33m\u001b[0m\u001b[0m\n\u001b[0;32m      4\u001b[0m \u001b[0madd_numbers\u001b[0m\u001b[1;33m(\u001b[0m\u001b[1;36m2\u001b[0m\u001b[1;33m,\u001b[0m \u001b[1;36m5\u001b[0m\u001b[1;33m)\u001b[0m\u001b[1;33m\u001b[0m\u001b[1;33m\u001b[0m\u001b[0m\n\u001b[1;32m----> 5\u001b[1;33m \u001b[0mprint\u001b[0m\u001b[1;33m(\u001b[0m\u001b[0mresult\u001b[0m\u001b[1;33m)\u001b[0m\u001b[1;33m\u001b[0m\u001b[1;33m\u001b[0m\u001b[0m\n\u001b[0m",
      "\u001b[1;31mNameError\u001b[0m: name 'result' is not defined"
     ]
    }
   ],
   "source": [
    "def add_numbers(n1, n2):\n",
    "    result = n1 + n2\n",
    "       \n",
    "add_numbers(2, 5)\n",
    "print(resut)"
   ]
  },
  {
   "cell_type": "code",
   "execution_count": 23,
   "id": "a77a8034-9cea-4184-95f4-071315da8e6b",
   "metadata": {},
   "outputs": [],
   "source": [
    "def func(a, b, c):\n",
    "    if a>b and a>c:\n",
    "        print(a, \"Max\")\n",
    "    elif b>a and b>c: \n",
    "        print(b, \"Max\")\n",
    "    else: \n",
    "        print(c, \"Max\")"
   ]
  },
  {
   "cell_type": "code",
   "execution_count": 25,
   "id": "ff63eec2-5320-467b-85fa-3fe2ca66fe61",
   "metadata": {},
   "outputs": [
    {
     "name": "stdout",
     "output_type": "stream",
     "text": [
      "5.801 Max\n"
     ]
    }
   ],
   "source": [
    "func(5.79, 5.80, 5.801)"
   ]
  },
  {
   "cell_type": "code",
   "execution_count": 26,
   "id": "a0475f83-e35c-4ae5-951a-a0bcb9d0889d",
   "metadata": {},
   "outputs": [],
   "source": [
    "def isoken(a):\n",
    "    if a % 2 == 0:\n",
    "        print(a, \"Even\")\n",
    "    else:\n",
    "        print(a, \"Odd\")"
   ]
  },
  {
   "cell_type": "code",
   "execution_count": 34,
   "id": "a5bf47e7-efc6-479c-989e-96e3b2fe897e",
   "metadata": {},
   "outputs": [
    {
     "name": "stdout",
     "output_type": "stream",
     "text": [
      "267483738391239 Odd\n"
     ]
    }
   ],
   "source": [
    "isoken(267483738391239)"
   ]
  },
  {
   "cell_type": "code",
   "execution_count": 5,
   "id": "30625f60-a756-48b1-92ed-0fdffe738945",
   "metadata": {},
   "outputs": [],
   "source": [
    "def Ify(x):\n",
    "    v = 0\n",
    "    c = 0\n",
    "    vowels = [\"a\", \"e\", \"i\", \"o\", \"u\"]\n",
    "    for i in range(len(x)):\n",
    "        if x[i] in vowels:\n",
    "            v = v + 1\n",
    "        else:\n",
    "            c = c + 1\n",
    "    print(\"vowel count\", v)\n",
    "    print(\"consonant count\", c)\n",
    "\n"
   ]
  },
  {
   "cell_type": "code",
   "execution_count": 7,
   "id": "1ae94d8c-463c-4920-a0ef-31ad747f933c",
   "metadata": {},
   "outputs": [
    {
     "name": "stdout",
     "output_type": "stream",
     "text": [
      "vowel count 2\n",
      "consonant count 3\n"
     ]
    }
   ],
   "source": [
    "Ify(\"Amaka\")"
   ]
  },
  {
   "cell_type": "code",
   "execution_count": 36,
   "id": "4e25d0f1-cece-453e-b1fc-a070d3ec8931",
   "metadata": {},
   "outputs": [
    {
     "data": {
      "text/plain": [
       "range(0, 6)"
      ]
     },
     "execution_count": 36,
     "metadata": {},
     "output_type": "execute_result"
    }
   ],
   "source": [
    "range(6)"
   ]
  },
  {
   "cell_type": "code",
   "execution_count": 1,
   "id": "3046a8c6-d36a-47ef-95e6-b880d382b829",
   "metadata": {},
   "outputs": [
    {
     "data": {
      "text/plain": [
       "'A'"
      ]
     },
     "execution_count": 1,
     "metadata": {},
     "output_type": "execute_result"
    }
   ],
   "source": [
    "x = \"Aramide\"\n",
    "x[0]"
   ]
  },
  {
   "cell_type": "code",
   "execution_count": 10,
   "id": "67387ad2-e15a-4786-89cb-03399c8a7a88",
   "metadata": {},
   "outputs": [],
   "source": [
    "def Olumide(y):\n",
    "    y = y.upper()\n",
    "    print(y)"
   ]
  },
  {
   "cell_type": "code",
   "execution_count": 11,
   "id": "bd431eac-e0f4-402c-8ad2-d006e1473a32",
   "metadata": {},
   "outputs": [
    {
     "name": "stdout",
     "output_type": "stream",
     "text": [
      "DATASCIENCE\n"
     ]
    }
   ],
   "source": [
    "Olumide(\"datascience\")"
   ]
  },
  {
   "cell_type": "code",
   "execution_count": 12,
   "id": "b224011c-e796-4aa3-8316-7357fb2cc59c",
   "metadata": {},
   "outputs": [
    {
     "name": "stdout",
     "output_type": "stream",
     "text": [
      "PYTHON SIGNAL\n"
     ]
    }
   ],
   "source": [
    "Olumide(\"python signal\")"
   ]
  },
  {
   "cell_type": "code",
   "execution_count": 15,
   "id": "d9a768c6-22e1-44d6-9760-290fe85fea69",
   "metadata": {},
   "outputs": [
    {
     "name": "stdout",
     "output_type": "stream",
     "text": [
      "7\n"
     ]
    }
   ],
   "source": [
    "def add_numbers(n1, n2):\n",
    "    result = n1 + n2\n",
    "    return result\n",
    "\n",
    "output = add_numbers(2, 5)\n",
    "print(output)"
   ]
  },
  {
   "cell_type": "code",
   "execution_count": 23,
   "id": "c8c93508-55e4-4181-8086-0c05ec525a1a",
   "metadata": {},
   "outputs": [
    {
     "name": "stdout",
     "output_type": "stream",
     "text": [
      "Message inside function How are you?\n",
      "Message outside function How you doing?\n"
     ]
    }
   ],
   "source": [
    "message = \"How you doing?\"\n",
    "\n",
    "def greet():\n",
    "    message = \"How are you?\"\n",
    "    print(\"Message inside function\", message)\n",
    "    \n",
    "greet()\n",
    "print(\"Message outside function\", message)"
   ]
  },
  {
   "cell_type": "code",
   "execution_count": 24,
   "id": "60eb3b12-fbf5-4f7f-aaac-985c03e72fca",
   "metadata": {},
   "outputs": [],
   "source": [
    "x = (\"apple\", \"banana\", \"cherry\")\n",
    "x = id(x)"
   ]
  },
  {
   "cell_type": "code",
   "execution_count": null,
   "id": "c7ca1358-5199-4a90-a952-5f9479960f04",
   "metadata": {},
   "outputs": [],
   "source": []
  }
 ],
 "metadata": {
  "kernelspec": {
   "display_name": "Python 3 (ipykernel)",
   "language": "python",
   "name": "python3"
  },
  "language_info": {
   "codemirror_mode": {
    "name": "ipython",
    "version": 3
   },
   "file_extension": ".py",
   "mimetype": "text/x-python",
   "name": "python",
   "nbconvert_exporter": "python",
   "pygments_lexer": "ipython3",
   "version": "3.9.7"
  }
 },
 "nbformat": 4,
 "nbformat_minor": 5
}
